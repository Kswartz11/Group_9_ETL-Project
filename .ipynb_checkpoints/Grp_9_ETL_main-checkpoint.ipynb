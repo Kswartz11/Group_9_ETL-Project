{
 "cells": [
  {
   "cell_type": "code",
   "execution_count": null,
   "metadata": {},
   "outputs": [],
   "source": [
    "import pandas as pd\n",
    "from sqlalchemy import create_engine\n",
    "import requests\n",
    "from config import api_key"
   ]
  },
  {
   "cell_type": "markdown",
   "metadata": {},
   "source": [
    "### Extract CSVs into DataFrames"
   ]
  },
  {
   "cell_type": "code",
   "execution_count": null,
   "metadata": {},
   "outputs": [],
   "source": [
    "streaming_platforms_file = \"Resources/streaming_platforms.csv\"\n",
    "streaming_platforms_df = pd.read_csv(streaming_platforms_file)\n",
    "streaming_platforms_df"
   ]
  },
  {
   "cell_type": "code",
   "execution_count": null,
   "metadata": {},
   "outputs": [],
   "source": [
    "title_list = streaming_platforms_df['Title'].tolist()\n",
    "title_list"
   ]
  },
  {
   "cell_type": "code",
   "execution_count": null,
   "metadata": {},
   "outputs": [],
   "source": [
    "url = \"http://www.omdbapi.com/?apikey=\" + api_key + \"&t=\"\n",
    "\n",
    "responses = []\n",
    "\n",
    "Title = []\n",
    "Year = []\n",
    "Rated = []\n",
    "Genre = []\n",
    "Director = []\n",
    "Actors = []\n",
    "Language = []\n",
    "Country = []\n",
    "IMDBRating = []\n",
    "IMDBID = []\n",
    "Boxoffice = []\n",
    "\n",
    "for movie in title_list:\n",
    "    movie_data = requests.get(url + movie).json()\n",
    "    \n",
    "    Title.append(movie_data['Title'])\n",
    "    Year.append(movie_data['Year'])\n",
    "    Rated.append(movie_data['Rated'])\n",
    "    Genre.append(movie_data['Genre'])\n",
    "    Director.append(movie_data['Director'])\n",
    "    Actors.append(movie_data['Actors'])\n",
    "    Language.append(movie_data['Language'])\n",
    "    Country.append(movie_data['Country'])\n",
    "    IMDBRating.append(movie_data['imdbRating'])\n",
    "    IMDBID.append(movie_data['imdbID'])\n",
    "    Boxoffice.append(movie_data['BoxOffice'])\n",
    "    \n",
    "    \n",
    "   "
   ]
  },
  {
   "cell_type": "code",
   "execution_count": null,
   "metadata": {},
   "outputs": [],
   "source": [
    "# create dataframe\n",
    "movie_data__df = pd.DataFrame({\n",
    "    \"Title\": Title,\n",
    "    \"Year\": Year,\n",
    "    \"Rated\": Rated,\n",
    "    \"Genre\": Genre,\n",
    "    \"Director\": Director,\n",
    "    \"Actors\": Actors,\n",
    "    \"Language\": Language,\n",
    "    \"Country\": Country,\n",
    "    \"imdbRating\": IMDBRating,\n",
    "    \"imdbID\": IMDBID,\n",
    "    \"BoxOffice\": Boxoffice\n",
    "})\n",
    "\n",
    "movie_data__df"
   ]
  },
  {
   "cell_type": "markdown",
   "metadata": {},
   "source": [
    "### Transform streaming platforms DataFrame"
   ]
  },
  {
   "cell_type": "code",
   "execution_count": null,
   "metadata": {},
   "outputs": [],
   "source": [
    "# Create a filtered dataframe from specific columns\n",
    "premise_cols = [\"License Serial Number\", \"Premises Name\", \"County ID Code\"]\n",
    "premise_transformed= premise_df[premise_cols].copy()\n",
    "\n",
    "# Rename the column headers\n",
    "premise_transformed = premise_transformed.rename(columns={\"License Serial Number\": \"id\",\n",
    "                                                          \"Premises Name\": \"premise_name\",\n",
    "                                                          \"County ID Code\": \"county_id\"})\n",
    "\n",
    "# Clean the data by dropping duplicates and setting the index\n",
    "premise_transformed.drop_duplicates(\"id\", inplace=True)\n",
    "premise_transformed.set_index(\"id\", inplace=True)\n",
    "\n",
    "premise_transformed.head()"
   ]
  },
  {
   "cell_type": "markdown",
   "metadata": {},
   "source": [
    "### Transform popular movies DataFrame"
   ]
  },
  {
   "cell_type": "code",
   "execution_count": null,
   "metadata": {},
   "outputs": [],
   "source": [
    "county_cols = [\"ID\", \"County Name (Licensee)\", \"County ID Code\", \"License Count\"]\n",
    "county_transformed = county_df[county_cols].copy()\n",
    "\n",
    "# Rename the column headers\n",
    "county_transformed = county_transformed.rename(columns={\"ID\": \"id\",\n",
    "                                                         \"County Name (Licensee)\": \"county_name\",\n",
    "                                                         \"License Count\": \"license_count\",\n",
    "                                                         \"County ID Code\": \"county_id\"})\n",
    "\n",
    "# Set index\n",
    "county_transformed.set_index(\"id\", inplace=True)\n",
    "\n",
    "county_transformed.head()"
   ]
  },
  {
   "cell_type": "markdown",
   "metadata": {},
   "source": [
    "### Create database connection"
   ]
  },
  {
   "cell_type": "code",
   "execution_count": null,
   "metadata": {},
   "outputs": [],
   "source": [
    "connection_string = \"postgres:postgres@localhost:5432/customer_db\"\n",
    "engine = create_engine(f'postgresql://{connection_string}')"
   ]
  },
  {
   "cell_type": "code",
   "execution_count": null,
   "metadata": {},
   "outputs": [],
   "source": [
    "# Confirm tables\n",
    "engine.table_names()"
   ]
  },
  {
   "cell_type": "markdown",
   "metadata": {},
   "source": [
    "### Load DataFrames into database"
   ]
  },
  {
   "cell_type": "code",
   "execution_count": null,
   "metadata": {},
   "outputs": [],
   "source": [
    "premise_transformed.to_sql(name='premise', con=engine, if_exists='append', index=True)"
   ]
  },
  {
   "cell_type": "code",
   "execution_count": null,
   "metadata": {},
   "outputs": [],
   "source": [
    "county_transformed.to_sql(name='county', con=engine, if_exists='append', index=True)"
   ]
  },
  {
   "cell_type": "code",
   "execution_count": null,
   "metadata": {},
   "outputs": [],
   "source": []
  }
 ],
 "metadata": {
  "kernelspec": {
   "display_name": "Python 3",
   "language": "python",
   "name": "python3"
  },
  "language_info": {
   "codemirror_mode": {
    "name": "ipython",
    "version": 3
   },
   "file_extension": ".py",
   "mimetype": "text/x-python",
   "name": "python",
   "nbconvert_exporter": "python",
   "pygments_lexer": "ipython3",
   "version": "3.8.3"
  }
 },
 "nbformat": 4,
 "nbformat_minor": 2
}
