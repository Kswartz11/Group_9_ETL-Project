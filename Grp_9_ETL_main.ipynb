{
 "cells": [
  {
   "cell_type": "code",
   "execution_count": null,
   "metadata": {},
   "outputs": [],
   "source": [
    "#Dependencies\n",
    "import requests\n",
    "from sqlalchemy import create_engine\n",
    "import json\n",
    "import pandas as pd\n",
    "import numpy as np\n",
    "import matplotlib.pyplot as plt\n",
    "from config import api_key"
   ]
  },
  {
   "cell_type": "markdown",
   "metadata": {},
   "source": [
    "### Extract CSVs into DataFrames"
   ]
  },
  {
   "cell_type": "code",
   "execution_count": null,
   "metadata": {},
   "outputs": [],
   "source": [
    "cleaned_dataset_file = \"Resources/cleaned_dataset.csv\"\n",
    "cleaned_dataset_df = pd.read_csv(cleaned_dataset_file)\n",
    "cleaned_dataset_df"
   ]
  },
  {
   "cell_type": "code",
   "execution_count": null,
   "metadata": {},
   "outputs": [],
   "source": [
    "cleaned_dataset_df.dropna()"
   ]
  },
  {
   "cell_type": "code",
   "execution_count": null,
   "metadata": {},
   "outputs": [],
   "source": [
    "cleaned_dataset_df = cleaned_dataset_df[['ID','Title','Year','Age','IMDb','Netflix','Hulu','Disney+','Directors','Genres','Country','Language']].copy()\n",
    "cleaned_dataset_df.head()"
   ]
  },
  {
   "cell_type": "code",
   "execution_count": null,
   "metadata": {},
   "outputs": [],
   "source": [
    "cleaned_dataset_cols=['ID','Title','Year','Age','IMDb','Netflix','Hulu','Disney+','Directors','Genres','Country','Language']\n",
    "\n",
    "cleaned_dataset_transformed= cleaned_dataset_df[cleaned_dataset_cols].copy()\n",
    "\n",
    "cleaned_dataset_transformed = cleaned_dataset_transformed.rename(columns={'ID':'id',\n",
    "                                                          'Title':'title',\n",
    "                                                          'Year':'year',\n",
    "                                                          'Age':'age',\n",
    "                                                          'IMDb':'imdb',\n",
    "                                                          'Netflix':'netflix',\n",
    "                                                          'Hulu':'hulu',\n",
    "                                                          'Disney+':'disney',\n",
    "                                                          'Directors':'directors',\n",
    "                                                          'Genres':'genres',\n",
    "                                                          'Country':'country',\n",
    "                                                          'Language':'language'})\n",
    "\n",
    "cleaned_dataset_transformed.drop_duplicates('id', inplace=True)\n",
    "cleaned_dataset_transformed.set_index('id', inplace=True)\n",
    "\n",
    "cleaned_dataset_transformed.head()"
   ]
  },
  {
   "cell_type": "code",
   "execution_count": null,
   "metadata": {},
   "outputs": [],
   "source": [
    "cleaned_dataset_API_file = \"Resources/cleaned_dataset_API.csv\"\n",
    "cleaned_dataset_API_df = pd.read_csv(cleaned_dataset_API_file)\n",
    "cleaned_dataset_API_df"
   ]
  },
  {
   "cell_type": "code",
   "execution_count": null,
   "metadata": {},
   "outputs": [],
   "source": [
    "\n",
    "cleaned_dataset_API_df.dropna()"
   ]
  },
  {
   "cell_type": "code",
   "execution_count": null,
   "metadata": {},
   "outputs": [],
   "source": [
    "cleaned_dataset_API_df = cleaned_dataset_API_df[['Title','Year','Rated','Genre','Actors','Plot','Language','Country','imdbID','BoxOffice','Production']].copy()\n",
    "cleaned_dataset_API_df.head()"
   ]
  },
  {
   "cell_type": "code",
   "execution_count": null,
   "metadata": {},
   "outputs": [],
   "source": [
    "cleaned_dataset_API_cols=['Title','Rated','Actors','imdbID','BoxOffice','Production'] \n",
    "\n",
    "cleaned_dataset_API_transformed= cleaned_dataset_API_df[cleaned_dataset_API_cols].copy()\n",
    "\n",
    "cleaned_dataset_API_transformed = cleaned_dataset_API_transformed.rename(columns={\n",
    "                                                          'Title':'title',\n",
    "                                                          'Rated':'rated',\n",
    "                                                          'Actors':'actors',\n",
    "                                                          'imdbID':'imdb_id',\n",
    "                                                          'BoxOffice':'box_office',\n",
    "                                                          'Production':'production'})\n",
    "\n",
    "cleaned_dataset_API_transformed.set_index('title', inplace=True)"
   ]
  },
  {
   "cell_type": "markdown",
   "metadata": {},
   "source": [
    "### Create database connection"
   ]
  },
  {
   "cell_type": "code",
   "execution_count": null,
   "metadata": {},
   "outputs": [],
   "source": [
    "connection_string = \"postgres:Predator@1702@localhost:5432/movies_db\"\n",
    "engine = create_engine(f'postgresql://{connection_string}')"
   ]
  },
  {
   "cell_type": "code",
   "execution_count": null,
   "metadata": {},
   "outputs": [],
   "source": [
    "# Confirm tables\n",
    "engine.table_names()"
   ]
  },
  {
   "cell_type": "markdown",
   "metadata": {},
   "source": [
    "### Load DataFrames into database"
   ]
  },
  {
   "cell_type": "code",
   "execution_count": null,
   "metadata": {},
   "outputs": [],
   "source": [
    "cleaned_dataset_transformed.to_sql(name='kaggle', con=engine, if_exists='append', index=True)"
   ]
  },
  {
   "cell_type": "code",
   "execution_count": null,
   "metadata": {},
   "outputs": [],
   "source": [
    "cleaned_dataset_API_transformed.to_sql(name='api', con=engine, if_exists='append', index=True)"
   ]
  },
  {
   "cell_type": "code",
   "execution_count": null,
   "metadata": {},
   "outputs": [],
   "source": []
  }
 ],
 "metadata": {
  "kernelspec": {
   "display_name": "Python 3",
   "language": "python",
   "name": "python3"
  },
  "language_info": {
   "codemirror_mode": {
    "name": "ipython",
    "version": 3
   },
   "file_extension": ".py",
   "mimetype": "text/x-python",
   "name": "python",
   "nbconvert_exporter": "python",
   "pygments_lexer": "ipython3",
   "version": "3.8.3"
  }
 },
 "nbformat": 4,
 "nbformat_minor": 2
}
